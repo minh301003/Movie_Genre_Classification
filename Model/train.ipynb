{
 "cells": [
  {
   "cell_type": "code",
   "execution_count": 1,
   "metadata": {},
   "outputs": [
    {
     "name": "stderr",
     "output_type": "stream",
     "text": [
      "d:\\Administrator\\anaconda3\\envs\\cv\\Lib\\site-packages\\tqdm\\auto.py:21: TqdmWarning: IProgress not found. Please update jupyter and ipywidgets. See https://ipywidgets.readthedocs.io/en/stable/user_install.html\n",
      "  from .autonotebook import tqdm as notebook_tqdm\n"
     ]
    }
   ],
   "source": [
    "import torch\n",
    "import pandas as pd\n",
    "import numpy as np\n",
    "import os\n",
    "import warnings\n",
    "import matplotlib.pyplot as plt\n",
    "import cv2\n",
    "\n",
    "from transformers import AutoTokenizer, AutoModelForSequenceClassification, DistilBertForSequenceClassification, AutoModelForSeq2SeqLM\n",
    "from tqdm import tqdm\n",
    "from torchvision import models\n",
    "from torchvision.transforms import v2\n",
    "from torch.utils.data import Dataset, DataLoader\n",
    "from keras.preprocessing import image\n",
    "from torchmetrics.classification import MultilabelF1Score\n",
    "from sklearn.metrics import average_precision_score, ndcg_score"
   ]
  },
  {
   "cell_type": "code",
   "execution_count": 2,
   "metadata": {},
   "outputs": [],
   "source": [
    "warnings.filterwarnings(\"ignore\")"
   ]
  },
  {
   "cell_type": "code",
   "execution_count": 3,
   "metadata": {},
   "outputs": [
    {
     "data": {
      "text/plain": [
       "{0: 'Crime',\n",
       " 1: 'Thriller',\n",
       " 2: 'Fantasy',\n",
       " 3: 'Horror',\n",
       " 4: 'Sci-Fi',\n",
       " 5: 'Comedy',\n",
       " 6: 'Documentary',\n",
       " 7: 'Adventure',\n",
       " 8: 'Film-Noir',\n",
       " 9: 'Animation',\n",
       " 10: 'Romance',\n",
       " 11: 'Drama',\n",
       " 12: 'Western',\n",
       " 13: 'Musical',\n",
       " 14: 'Action',\n",
       " 15: 'Mystery',\n",
       " 16: 'War',\n",
       " 17: \"Children's\"}"
      ]
     },
     "execution_count": 3,
     "metadata": {},
     "output_type": "execute_result"
    }
   ],
   "source": [
    "genres = [\"Crime\", \"Thriller\", \"Fantasy\", \"Horror\", \"Sci-Fi\", \"Comedy\", \"Documentary\", \"Adventure\", \"Film-Noir\", \"Animation\", \"Romance\", \"Drama\", \"Western\", \"Musical\", \"Action\", \"Mystery\", \"War\", \"Children\\'s\"]\n",
    "mapping = {}\n",
    "for i in range(len(genres)):\n",
    "    mapping[i] = genres[i]\n",
    "mapping"
   ]
  },
  {
   "cell_type": "code",
   "execution_count": 4,
   "metadata": {},
   "outputs": [],
   "source": [
    "trainset = pd.read_csv('dataset/trainset.csv')\n",
    "testset = pd.read_csv('dataset/testset.csv')\n",
    "trainset.label = trainset.label.apply(lambda x: eval(x))\n",
    "testset.label = testset.label.apply(lambda x: eval(x))\n",
    "trainset.img_path = trainset.img_path.apply(lambda x: x.replace('\\\\', '/'))\n",
    "testset.img_path = testset.img_path.apply(lambda x: x.replace('\\\\', '/'))"
   ]
  },
  {
   "cell_type": "code",
   "execution_count": 5,
   "metadata": {},
   "outputs": [
    {
     "name": "stdout",
     "output_type": "stream",
     "text": [
      "3106 777\n"
     ]
    }
   ],
   "source": [
    "print(len(trainset), len(testset))"
   ]
  },
  {
   "cell_type": "code",
   "execution_count": 6,
   "metadata": {},
   "outputs": [],
   "source": [
    "def load_state_dict(checkpoint_path, use_ema=False, num_classes=1000):\n",
    "    if checkpoint_path and os.path.isfile(checkpoint_path):\n",
    "        checkpoint = torch.load(checkpoint_path, map_location='cpu')\n",
    "        state_dict_key = 'state_dict'\n",
    "        if isinstance(checkpoint, dict):\n",
    "            if use_ema and 'state_dict_ema' in checkpoint:\n",
    "                state_dict_key = 'state_dict_ema'\n",
    "        if state_dict_key and state_dict_key in checkpoint:\n",
    "            new_state_dict = OrderedDict()\n",
    "            for k, v in checkpoint[state_dict_key].items():\n",
    "                # strip `module.` prefix\n",
    "                name = k[7:] if k.startswith('module') else k\n",
    "                new_state_dict[name] = v\n",
    "            state_dict = new_state_dict\n",
    "        else:\n",
    "            state_dict = checkpoint\n",
    "#         _logger.info(\"Loaded {} from checkpoint '{}'\".format(state_dict_key, checkpoint_path))\n",
    "#         if num_classes != 1000:\n",
    "#             # completely discard fully connected for all other differences between pretrained and created model\n",
    "#             del state_dict['head' + '.weight']\n",
    "#             del state_dict['head' + '.bias']\n",
    "\n",
    "        return state_dict\n",
    "    else:\n",
    "#         _logger.error(\"No checkpoint found at '{}'\".format(checkpoint_path))\n",
    "        raise FileNotFoundError()\n",
    "\n",
    "\n",
    "def load_for_transfer_learning(model, checkpoint_path, use_ema=False, strict=False, num_classes=1000):\n",
    "    state_dict = load_state_dict(checkpoint_path, use_ema, num_classes)\n",
    "    model.load_state_dict(state_dict, strict=strict)"
   ]
  },
  {
   "cell_type": "code",
   "execution_count": 7,
   "metadata": {},
   "outputs": [],
   "source": [
    "device = torch.device('cuda' if torch.cuda.is_available() else 'cpu')"
   ]
  },
  {
   "cell_type": "code",
   "execution_count": 8,
   "metadata": {},
   "outputs": [
    {
     "name": "stderr",
     "output_type": "stream",
     "text": [
      "Some weights of DistilBertForSequenceClassification were not initialized from the model checkpoint at distilbert-base-uncased and are newly initialized: ['classifier.bias', 'classifier.weight', 'pre_classifier.bias', 'pre_classifier.weight']\n",
      "You should probably TRAIN this model on a down-stream task to be able to use it for predictions and inference.\n"
     ]
    },
    {
     "name": "stdout",
     "output_type": "stream",
     "text": [
      "adopt performer encoder for tokens-to-token\n"
     ]
    },
    {
     "data": {
      "text/plain": [
       "device(type='cuda')"
      ]
     },
     "execution_count": 8,
     "metadata": {},
     "output_type": "execute_result"
    }
   ],
   "source": [
    "from models.t2t_vit import *\n",
    "\n",
    "tokenizer1 = AutoTokenizer.from_pretrained(\"distilbert-base-uncased\")\n",
    "model1 = DistilBertForSequenceClassification .from_pretrained(\"distilbert-base-uncased\", problem_type=\"multi_label_classification\", num_labels=18)\n",
    "model1.config.id2label = mapping\n",
    "\n",
    "tokenizer2 = AutoTokenizer.from_pretrained(\"dduy193/plot-classification\")\n",
    "model2 = AutoModelForSequenceClassification.from_pretrained(\"dduy193/plot-classification\")\n",
    "model2.config.id2label = mapping\n",
    "\n",
    "model3 = T2t_vit_14(img_size=224, num_classes=12)\n",
    "model3.fc = torch.nn.Linear(2048, len(genres))\n",
    "\n",
    "device = torch.device('cuda' if torch.cuda.is_available() else 'cpu')\n",
    "model1.to(device)\n",
    "model2.to(device)\n",
    "model3.to(device)\n",
    "device"
   ]
  },
  {
   "cell_type": "code",
   "execution_count": 9,
   "metadata": {},
   "outputs": [],
   "source": [
    "class Multimodal(torch.nn.Module):\n",
    "    def __init__(self, model1, model2, model3):\n",
    "        super().__init__()\n",
    "        self.model1 = model1\n",
    "        self.model2 = model2\n",
    "        self.model3 = model3\n",
    "        self.fc1 = torch.nn.Linear(18, 18)\n",
    "        self.fc2 = torch.nn.Linear(18, 18)\n",
    "        self.fc3 = torch.nn.Linear(12, 18)\n",
    "\n",
    "    def forward(self, \n",
    "                title_input_ids, title_attention_mask,\n",
    "                plot_input_ids, plot_attention_mask,\n",
    "                image_input):\n",
    "        title_output = self.model1(title_input_ids, title_attention_mask)\n",
    "        plot_output = self.model2(plot_input_ids, plot_attention_mask)\n",
    "        image_output = self.model3(image_input)\n",
    "\n",
    "        title_output = self.fc1(title_output.logits)\n",
    "        plot_output = self.fc2(plot_output.logits)\n",
    "        image_output = self.fc3(image_output)\n",
    "        \n",
    "        output = torch.add(title_output, plot_output)\n",
    "        output = torch.add(output, image_output)\n",
    "        return output"
   ]
  },
  {
   "cell_type": "code",
   "execution_count": 10,
   "metadata": {},
   "outputs": [],
   "source": [
    "class CustomDataset(torch.utils.data.Dataset):\n",
    "    def __init__(self, df, \n",
    "                 tokenizer1, tokenizer2, \n",
    "                 max_len1=64, max_len2=256,\n",
    "                 device = torch.device('cuda' if torch.cuda.is_available() else 'cpu')):\n",
    "        self.df = df\n",
    "        self.tokenizer1 = tokenizer1\n",
    "        self.tokenizer2 = tokenizer2\n",
    "        self.max_len1 = max_len1\n",
    "        self.max_len2 = max_len2\n",
    "        self.device = device\n",
    "        self.transform = v2.Compose([\n",
    "            v2.Resize((224, 224)),\n",
    "            v2.ToTensor(),\n",
    "            v2.Normalize(mean=[0.485, 0.456, 0.406],\n",
    "                                    std=[0.229, 0.224, 0.225])\n",
    "        ])\n",
    "\n",
    "    def __len__(self):\n",
    "        return len(self.df)\n",
    "    \n",
    "    def __getitem__(self, idx):\n",
    "        row = self.df.iloc[idx]\n",
    "        \n",
    "        title = row['title']\n",
    "        # Truncate title if it is too long\n",
    "        if len(title) > self.max_len1:\n",
    "            title = title[:self.max_len1]\n",
    "\n",
    "        plot = row['plot']\n",
    "        # Truncate plot if it is too long\n",
    "        if len(plot) > self.max_len2:\n",
    "            plot = plot[:self.max_len2]\n",
    "\n",
    "        label = row['label']\n",
    "        title_encoding = self.tokenizer1(title, truncation=True, padding='max_length', max_length=self.max_len1, return_tensors='pt')\n",
    "        plot_encoding = self.tokenizer2(plot, truncation=True, padding='max_length', max_length=self.max_len2, return_tensors='pt')\n",
    "        \n",
    "        image_path = 'dataset/' + row['img_path']\n",
    "        if os.path.exists(image_path):\n",
    "            image_input = image.load_img(image_path)\n",
    "            image_input = self.transform(image_input)\n",
    "        else:\n",
    "            image_input = torch.zeros((3, 224, 224))\n",
    "        \n",
    "        return {\n",
    "            'title': title,\n",
    "            'plot': plot,\n",
    "            'title_input_ids': title_encoding['input_ids'].squeeze(),\n",
    "            'title_attention_mask': title_encoding['attention_mask'].squeeze(),\n",
    "            'plot_input_ids': plot_encoding['input_ids'].squeeze(),\n",
    "            'plot_attention_mask': plot_encoding['attention_mask'].squeeze(),\n",
    "            'image_input': image_input,\n",
    "            'label': torch.FloatTensor(label)\n",
    "        }"
   ]
  },
  {
   "cell_type": "code",
   "execution_count": 11,
   "metadata": {},
   "outputs": [
    {
     "data": {
      "text/html": [
       "<div>\n",
       "<style scoped>\n",
       "    .dataframe tbody tr th:only-of-type {\n",
       "        vertical-align: middle;\n",
       "    }\n",
       "\n",
       "    .dataframe tbody tr th {\n",
       "        vertical-align: top;\n",
       "    }\n",
       "\n",
       "    .dataframe thead th {\n",
       "        text-align: right;\n",
       "    }\n",
       "</style>\n",
       "<table border=\"1\" class=\"dataframe\">\n",
       "  <thead>\n",
       "    <tr style=\"text-align: right;\">\n",
       "      <th></th>\n",
       "      <th>title</th>\n",
       "      <th>img_path</th>\n",
       "      <th>label</th>\n",
       "      <th>plot</th>\n",
       "    </tr>\n",
       "  </thead>\n",
       "  <tbody>\n",
       "    <tr>\n",
       "      <th>0</th>\n",
       "      <td>Washington Square (1997)</td>\n",
       "      <td>ml1m-images/1650.jpg</td>\n",
       "      <td>[0, 0, 0, 0, 0, 0, 0, 0, 0, 0, 0, 1, 0, 0, 0, ...</td>\n",
       "      <td>Washington Square is a 1997 American film abou...</td>\n",
       "    </tr>\n",
       "    <tr>\n",
       "      <th>1</th>\n",
       "      <td>Net, The (1995)</td>\n",
       "      <td>ml1m-images/185.jpg</td>\n",
       "      <td>[0, 1, 0, 0, 1, 0, 0, 0, 0, 0, 0, 0, 0, 0, 0, ...</td>\n",
       "      <td>Net is a 1995 American film directed by James ...</td>\n",
       "    </tr>\n",
       "    <tr>\n",
       "      <th>2</th>\n",
       "      <td>Batman Returns (1992)</td>\n",
       "      <td>ml1m-images/1377.jpg</td>\n",
       "      <td>[1, 0, 0, 0, 0, 1, 0, 1, 0, 0, 0, 0, 0, 0, 1, ...</td>\n",
       "      <td>Batman returns to the Batman universe after a ...</td>\n",
       "    </tr>\n",
       "    <tr>\n",
       "      <th>3</th>\n",
       "      <td>Boys from Brazil, The (1978)</td>\n",
       "      <td>ml1m-images/3204.jpg</td>\n",
       "      <td>[0, 1, 0, 0, 0, 0, 0, 0, 0, 0, 0, 0, 0, 0, 0, ...</td>\n",
       "      <td>The movie Boys from Brazil, The (1978) is a ro...</td>\n",
       "    </tr>\n",
       "    <tr>\n",
       "      <th>4</th>\n",
       "      <td>Dear Jesse (1997)</td>\n",
       "      <td>ml1m-images/1901.jpg</td>\n",
       "      <td>[0, 0, 0, 0, 0, 0, 1, 0, 0, 0, 0, 0, 0, 0, 0, ...</td>\n",
       "      <td>Dear Jesse is a 1997 American drama film about...</td>\n",
       "    </tr>\n",
       "  </tbody>\n",
       "</table>\n",
       "</div>"
      ],
      "text/plain": [
       "                          title              img_path  \\\n",
       "0      Washington Square (1997)  ml1m-images/1650.jpg   \n",
       "1               Net, The (1995)   ml1m-images/185.jpg   \n",
       "2         Batman Returns (1992)  ml1m-images/1377.jpg   \n",
       "3  Boys from Brazil, The (1978)  ml1m-images/3204.jpg   \n",
       "4             Dear Jesse (1997)  ml1m-images/1901.jpg   \n",
       "\n",
       "                                               label  \\\n",
       "0  [0, 0, 0, 0, 0, 0, 0, 0, 0, 0, 0, 1, 0, 0, 0, ...   \n",
       "1  [0, 1, 0, 0, 1, 0, 0, 0, 0, 0, 0, 0, 0, 0, 0, ...   \n",
       "2  [1, 0, 0, 0, 0, 1, 0, 1, 0, 0, 0, 0, 0, 0, 1, ...   \n",
       "3  [0, 1, 0, 0, 0, 0, 0, 0, 0, 0, 0, 0, 0, 0, 0, ...   \n",
       "4  [0, 0, 0, 0, 0, 0, 1, 0, 0, 0, 0, 0, 0, 0, 0, ...   \n",
       "\n",
       "                                                plot  \n",
       "0  Washington Square is a 1997 American film abou...  \n",
       "1  Net is a 1995 American film directed by James ...  \n",
       "2  Batman returns to the Batman universe after a ...  \n",
       "3  The movie Boys from Brazil, The (1978) is a ro...  \n",
       "4  Dear Jesse is a 1997 American drama film about...  "
      ]
     },
     "execution_count": 11,
     "metadata": {},
     "output_type": "execute_result"
    }
   ],
   "source": [
    "trainset.head()"
   ]
  },
  {
   "cell_type": "code",
   "execution_count": 12,
   "metadata": {},
   "outputs": [],
   "source": [
    "trainset = CustomDataset(df=trainset, tokenizer1=tokenizer1, tokenizer2=tokenizer2,\n",
    "                   max_len1=64, max_len2=256,\n",
    "                   device=device)\n",
    "testset = CustomDataset(df=testset, tokenizer1=tokenizer1, tokenizer2=tokenizer2,\n",
    "                  max_len1=64, max_len2=256,\n",
    "                  device=device)"
   ]
  },
  {
   "cell_type": "code",
   "execution_count": 13,
   "metadata": {},
   "outputs": [],
   "source": [
    "trainloader = torch.utils.data.DataLoader(trainset, batch_size=32, shuffle=True)\n",
    "testloader = torch.utils.data.DataLoader(testset, batch_size=32, shuffle=True)"
   ]
  },
  {
   "cell_type": "code",
   "execution_count": 14,
   "metadata": {},
   "outputs": [
    {
     "name": "stderr",
     "output_type": "stream",
     "text": [
      "Clipping input data to the valid range for imshow with RGB data ([0..1] for floats or [0..255] for integers). Got range [-2.117904..2.6051416].\n"
     ]
    },
    {
     "name": "stdout",
     "output_type": "stream",
     "text": [
      "Title:  Tombstone (1993)\n",
      "Plot:  Tombstone is a 1993 horror film about a man named Tombstone who is convicted of murdering his wife and her lover. He is sentenced to life in prison for the murder. The film explores themes of societal decay, the dangers of drug use, and the consequences of\n",
      "Label:  tensor([0., 0., 0., 0., 0., 0., 0., 0., 0., 0., 0., 0., 1., 0., 0., 0., 0., 0.])\n"
     ]
    },
    {
     "data": {
      "text/plain": [
       "<matplotlib.image.AxesImage at 0x1f3b816d850>"
      ]
     },
     "execution_count": 14,
     "metadata": {},
     "output_type": "execute_result"
    },
    {
     "data": {
      "image/png": "[encoded data removed]",
      "text/plain": [
       "<Figure size 640x480 with 1 Axes>"
      ]
     },
     "metadata": {},
     "output_type": "display_data"
    }
   ],
   "source": [
    "sample = next(iter(testloader))\n",
    "\n",
    "# First sample of the batch\n",
    "print('Title: ', sample['title'][3])\n",
    "print('Plot: ', sample['plot'][3])\n",
    "print('Label: ', sample['label'][3])\n",
    "plt.imshow(sample['image_input'][3].permute(1, 2, 0))"
   ]
  },
  {
   "cell_type": "code",
   "execution_count": 15,
   "metadata": {},
   "outputs": [
    {
     "data": {
      "text/plain": [
       "Multimodal(\n",
       "  (model1): DistilBertForSequenceClassification(\n",
       "    (distilbert): DistilBertModel(\n",
       "      (embeddings): Embeddings(\n",
       "        (word_embeddings): Embedding(30522, 768, padding_idx=0)\n",
       "        (position_embeddings): Embedding(512, 768)\n",
       "        (LayerNorm): LayerNorm((768,), eps=1e-12, elementwise_affine=True)\n",
       "        (dropout): Dropout(p=0.1, inplace=False)\n",
       "      )\n",
       "      (transformer): Transformer(\n",
       "        (layer): ModuleList(\n",
       "          (0-5): 6 x TransformerBlock(\n",
       "            (attention): DistilBertSdpaAttention(\n",
       "              (dropout): Dropout(p=0.1, inplace=False)\n",
       "              (q_lin): Linear(in_features=768, out_features=768, bias=True)\n",
       "              (k_lin): Linear(in_features=768, out_features=768, bias=True)\n",
       "              (v_lin): Linear(in_features=768, out_features=768, bias=True)\n",
       "              (out_lin): Linear(in_features=768, out_features=768, bias=True)\n",
       "            )\n",
       "            (sa_layer_norm): LayerNorm((768,), eps=1e-12, elementwise_affine=True)\n",
       "            (ffn): FFN(\n",
       "              (dropout): Dropout(p=0.1, inplace=False)\n",
       "              (lin1): Linear(in_features=768, out_features=3072, bias=True)\n",
       "              (lin2): Linear(in_features=3072, out_features=768, bias=True)\n",
       "              (activation): GELUActivation()\n",
       "            )\n",
       "            (output_layer_norm): LayerNorm((768,), eps=1e-12, elementwise_affine=True)\n",
       "          )\n",
       "        )\n",
       "      )\n",
       "    )\n",
       "    (pre_classifier): Linear(in_features=768, out_features=768, bias=True)\n",
       "    (classifier): Linear(in_features=768, out_features=18, bias=True)\n",
       "    (dropout): Dropout(p=0.2, inplace=False)\n",
       "  )\n",
       "  (model2): DistilBertForSequenceClassification(\n",
       "    (distilbert): DistilBertModel(\n",
       "      (embeddings): Embeddings(\n",
       "        (word_embeddings): Embedding(30522, 768, padding_idx=0)\n",
       "        (position_embeddings): Embedding(512, 768)\n",
       "        (LayerNorm): LayerNorm((768,), eps=1e-12, elementwise_affine=True)\n",
       "        (dropout): Dropout(p=0.1, inplace=False)\n",
       "      )\n",
       "      (transformer): Transformer(\n",
       "        (layer): ModuleList(\n",
       "          (0-5): 6 x TransformerBlock(\n",
       "            (attention): DistilBertSdpaAttention(\n",
       "              (dropout): Dropout(p=0.1, inplace=False)\n",
       "              (q_lin): Linear(in_features=768, out_features=768, bias=True)\n",
       "              (k_lin): Linear(in_features=768, out_features=768, bias=True)\n",
       "              (v_lin): Linear(in_features=768, out_features=768, bias=True)\n",
       "              (out_lin): Linear(in_features=768, out_features=768, bias=True)\n",
       "            )\n",
       "            (sa_layer_norm): LayerNorm((768,), eps=1e-12, elementwise_affine=True)\n",
       "            (ffn): FFN(\n",
       "              (dropout): Dropout(p=0.1, inplace=False)\n",
       "              (lin1): Linear(in_features=768, out_features=3072, bias=True)\n",
       "              (lin2): Linear(in_features=3072, out_features=768, bias=True)\n",
       "              (activation): GELUActivation()\n",
       "            )\n",
       "            (output_layer_norm): LayerNorm((768,), eps=1e-12, elementwise_affine=True)\n",
       "          )\n",
       "        )\n",
       "      )\n",
       "    )\n",
       "    (pre_classifier): Linear(in_features=768, out_features=768, bias=True)\n",
       "    (classifier): Linear(in_features=768, out_features=18, bias=True)\n",
       "    (dropout): Dropout(p=0.2, inplace=False)\n",
       "  )\n",
       "  (model3): T2T_ViT(\n",
       "    (tokens_to_token): T2T_module(\n",
       "      (soft_split0): Unfold(kernel_size=(7, 7), dilation=1, padding=(2, 2), stride=(4, 4))\n",
       "      (soft_split1): Unfold(kernel_size=(3, 3), dilation=1, padding=(1, 1), stride=(2, 2))\n",
       "      (soft_split2): Unfold(kernel_size=(3, 3), dilation=1, padding=(1, 1), stride=(2, 2))\n",
       "      (attention1): Token_performer(\n",
       "        (kqv): Linear(in_features=147, out_features=192, bias=True)\n",
       "        (dp): Dropout(p=0.1, inplace=False)\n",
       "        (proj): Linear(in_features=64, out_features=64, bias=True)\n",
       "        (norm1): LayerNorm((147,), eps=1e-05, elementwise_affine=True)\n",
       "        (norm2): LayerNorm((64,), eps=1e-05, elementwise_affine=True)\n",
       "        (mlp): Sequential(\n",
       "          (0): Linear(in_features=64, out_features=64, bias=True)\n",
       "          (1): GELU(approximate='none')\n",
       "          (2): Linear(in_features=64, out_features=64, bias=True)\n",
       "          (3): Dropout(p=0.1, inplace=False)\n",
       "        )\n",
       "      )\n",
       "      (attention2): Token_performer(\n",
       "        (kqv): Linear(in_features=576, out_features=192, bias=True)\n",
       "        (dp): Dropout(p=0.1, inplace=False)\n",
       "        (proj): Linear(in_features=64, out_features=64, bias=True)\n",
       "        (norm1): LayerNorm((576,), eps=1e-05, elementwise_affine=True)\n",
       "        (norm2): LayerNorm((64,), eps=1e-05, elementwise_affine=True)\n",
       "        (mlp): Sequential(\n",
       "          (0): Linear(in_features=64, out_features=64, bias=True)\n",
       "          (1): GELU(approximate='none')\n",
       "          (2): Linear(in_features=64, out_features=64, bias=True)\n",
       "          (3): Dropout(p=0.1, inplace=False)\n",
       "        )\n",
       "      )\n",
       "      (project): Linear(in_features=576, out_features=384, bias=True)\n",
       "    )\n",
       "    (pos_drop): Dropout(p=0.0, inplace=False)\n",
       "    (blocks): ModuleList(\n",
       "      (0-13): 14 x Block(\n",
       "        (norm1): LayerNorm((384,), eps=1e-05, elementwise_affine=True)\n",
       "        (attn): Attention(\n",
       "          (qkv): Linear(in_features=384, out_features=1152, bias=False)\n",
       "          (attn_drop): Dropout(p=0.0, inplace=False)\n",
       "          (proj): Linear(in_features=384, out_features=384, bias=True)\n",
       "          (proj_drop): Dropout(p=0.0, inplace=False)\n",
       "        )\n",
       "        (drop_path): Identity()\n",
       "        (norm2): LayerNorm((384,), eps=1e-05, elementwise_affine=True)\n",
       "        (mlp): Mlp(\n",
       "          (fc1): Linear(in_features=384, out_features=1152, bias=True)\n",
       "          (act): GELU(approximate='none')\n",
       "          (fc2): Linear(in_features=1152, out_features=384, bias=True)\n",
       "          (drop): Dropout(p=0.0, inplace=False)\n",
       "        )\n",
       "      )\n",
       "    )\n",
       "    (norm): LayerNorm((384,), eps=1e-05, elementwise_affine=True)\n",
       "    (head): Linear(in_features=384, out_features=12, bias=True)\n",
       "    (fc): Linear(in_features=2048, out_features=18, bias=True)\n",
       "  )\n",
       "  (fc1): Linear(in_features=18, out_features=18, bias=True)\n",
       "  (fc2): Linear(in_features=18, out_features=18, bias=True)\n",
       "  (fc3): Linear(in_features=12, out_features=18, bias=True)\n",
       ")"
      ]
     },
     "execution_count": 15,
     "metadata": {},
     "output_type": "execute_result"
    }
   ],
   "source": [
    "model = Multimodal(model1, model2, model3)\n",
    "model.to(device)\n",
    "device\n",
    "\n",
    "# Freeze layers\n",
    "for param in model.model2.parameters():\n",
    "    param.requires_grad = False\n",
    "    \n",
    "model"
   ]
  },
  {
   "cell_type": "code",
   "execution_count": 16,
   "metadata": {},
   "outputs": [],
   "source": [
    "def loss_fn(outputs, targets):\n",
    "    return torch.nn.BCEWithLogitsLoss()(outputs, targets)\n",
    "\n",
    "optimizer = torch.optim.Adam(params=model.parameters(), lr=2e-5)"
   ]
  },
  {
   "cell_type": "code",
   "execution_count": 17,
   "metadata": {},
   "outputs": [],
   "source": [
    "history_loss = []\n",
    "history_f1 = []\n",
    "history_mapk = []\n",
    "history_ndcg = []\n",
    "def train(epoch):\n",
    "    model.train()\n",
    "    f1 = MultilabelF1Score(num_labels=18, threshold=0.5, average='macro')\n",
    "    f1.to(device)\n",
    "\n",
    "    actual = []\n",
    "    predicted = []\n",
    "    for _, data in tqdm(enumerate(trainloader, 0), total=len(trainloader)):\n",
    "        title_input_ids = data['title_input_ids'].to(device)\n",
    "        title_attention_mask = data['title_attention_mask'].to(device)\n",
    "        plot_input_ids = data['plot_input_ids'].to(device)\n",
    "        plot_attention_mask = data['plot_attention_mask'].to(device)\n",
    "        image_input = data['image_input'].to(device)\n",
    "        label = data['label'].to(device)\n",
    "\n",
    "        optimizer.zero_grad()\n",
    "        outputs = model(\n",
    "            title_input_ids, title_attention_mask,\n",
    "            plot_input_ids, plot_attention_mask,\n",
    "            image_input\n",
    "        )\n",
    "        \n",
    "        loss = loss_fn(outputs, label)\n",
    "        loss.backward()\n",
    "        optimizer.step()\n",
    "\n",
    "        f1.update(outputs.sigmoid(), label)\n",
    "        \n",
    "        probabilities = outputs.sigmoid().cpu().detach().numpy()\n",
    "\n",
    "        actual.append(label.cpu().detach().numpy())\n",
    "        predicted.append(probabilities)\n",
    "    actual_flat = np.vstack(actual)\n",
    "    predicted_flat = np.vstack(predicted)\n",
    "    maps = average_precision_score(actual_flat, predicted_flat, average=\"samples\")\n",
    "    \n",
    "    ndcg = ndcg_score(actual_flat, predicted_flat)\n",
    "    \n",
    "    print(f'Epoch: {epoch}, Train Loss: {loss.item()}, Train F1: {f1.compute().item()}, Train MAP: {maps}, Train NDCG: {ndcg}')\n",
    "    history_loss.append(loss.item())\n",
    "    history_f1.append(f1.compute().item())\n",
    "    history_mapk.append(maps)\n",
    "    history_ndcg.append(ndcg)"
   ]
  },
  {
   "cell_type": "code",
   "execution_count": 18,
   "metadata": {},
   "outputs": [
    {
     "name": "stderr",
     "output_type": "stream",
     "text": [
      "100%|██████████| 98/98 [01:04<00:00,  1.52it/s]\n"
     ]
    },
    {
     "name": "stdout",
     "output_type": "stream",
     "text": [
      "Epoch: 0, Train Loss: 0.8853269815444946, Train F1: 0.10773681849241257, Train MAP: 0.23696752904848717, Train NDCG: 0.42870758618965776\n"
     ]
    },
    {
     "name": "stderr",
     "output_type": "stream",
     "text": [
      "100%|██████████| 98/98 [01:02<00:00,  1.57it/s]\n"
     ]
    },
    {
     "name": "stdout",
     "output_type": "stream",
     "text": [
      "Epoch: 1, Train Loss: 0.6533972024917603, Train F1: 0.10123218595981598, Train MAP: 0.2777569920511949, Train NDCG: 0.4627714280453418\n"
     ]
    },
    {
     "name": "stderr",
     "output_type": "stream",
     "text": [
      "100%|██████████| 98/98 [01:01<00:00,  1.60it/s]\n"
     ]
    },
    {
     "name": "stdout",
     "output_type": "stream",
     "text": [
      "Epoch: 2, Train Loss: 0.407865047454834, Train F1: 0.10155370086431503, Train MAP: 0.3250950623588142, Train NDCG: 0.5012350460722843\n"
     ]
    },
    {
     "name": "stderr",
     "output_type": "stream",
     "text": [
      "100%|██████████| 98/98 [00:59<00:00,  1.64it/s]\n"
     ]
    },
    {
     "name": "stdout",
     "output_type": "stream",
     "text": [
      "Epoch: 3, Train Loss: 0.456891268491745, Train F1: 0.10411819070577621, Train MAP: 0.3668373153034245, Train NDCG: 0.5348374173097997\n"
     ]
    },
    {
     "name": "stderr",
     "output_type": "stream",
     "text": [
      "100%|██████████| 98/98 [00:59<00:00,  1.64it/s]\n"
     ]
    },
    {
     "name": "stdout",
     "output_type": "stream",
     "text": [
      "Epoch: 4, Train Loss: 1.175386667251587, Train F1: 0.11883862316608429, Train MAP: 0.40943819114511043, Train NDCG: 0.5691392851118786\n"
     ]
    },
    {
     "name": "stderr",
     "output_type": "stream",
     "text": [
      "100%|██████████| 98/98 [00:59<00:00,  1.64it/s]\n"
     ]
    },
    {
     "name": "stdout",
     "output_type": "stream",
     "text": [
      "Epoch: 5, Train Loss: 0.13702711462974548, Train F1: 0.14506718516349792, Train MAP: 0.4697332761764152, Train NDCG: 0.61800191025601\n"
     ]
    },
    {
     "name": "stderr",
     "output_type": "stream",
     "text": [
      "100%|██████████| 98/98 [00:59<00:00,  1.64it/s]\n"
     ]
    },
    {
     "name": "stdout",
     "output_type": "stream",
     "text": [
      "Epoch: 6, Train Loss: 0.17222853004932404, Train F1: 0.1768987476825714, Train MAP: 0.5444319625934313, Train NDCG: 0.6774252063982653\n"
     ]
    },
    {
     "name": "stderr",
     "output_type": "stream",
     "text": [
      "100%|██████████| 98/98 [00:59<00:00,  1.64it/s]\n"
     ]
    },
    {
     "name": "stdout",
     "output_type": "stream",
     "text": [
      "Epoch: 7, Train Loss: 0.3990394175052643, Train F1: 0.20442189276218414, Train MAP: 0.6076110406167979, Train NDCG: 0.7271343204028966\n"
     ]
    },
    {
     "name": "stderr",
     "output_type": "stream",
     "text": [
      "100%|██████████| 98/98 [00:59<00:00,  1.64it/s]\n"
     ]
    },
    {
     "name": "stdout",
     "output_type": "stream",
     "text": [
      "Epoch: 8, Train Loss: 0.17079178988933563, Train F1: 0.22915871441364288, Train MAP: 0.6571398380322995, Train NDCG: 0.7649795788669925\n"
     ]
    },
    {
     "name": "stderr",
     "output_type": "stream",
     "text": [
      "100%|██████████| 98/98 [00:59<00:00,  1.64it/s]\n"
     ]
    },
    {
     "name": "stdout",
     "output_type": "stream",
     "text": [
      "Epoch: 9, Train Loss: 0.30872735381126404, Train F1: 0.2529810667037964, Train MAP: 0.6928225123900478, Train NDCG: 0.7918504064128169\n"
     ]
    },
    {
     "name": "stderr",
     "output_type": "stream",
     "text": [
      "100%|██████████| 98/98 [00:59<00:00,  1.64it/s]\n"
     ]
    },
    {
     "name": "stdout",
     "output_type": "stream",
     "text": [
      "Epoch: 10, Train Loss: 0.44308915734291077, Train F1: 0.27577704191207886, Train MAP: 0.720845390661354, Train NDCG: 0.8125306630613505\n"
     ]
    },
    {
     "name": "stderr",
     "output_type": "stream",
     "text": [
      "100%|██████████| 98/98 [00:59<00:00,  1.63it/s]\n"
     ]
    },
    {
     "name": "stdout",
     "output_type": "stream",
     "text": [
      "Epoch: 11, Train Loss: 0.38552573323249817, Train F1: 0.2956537902355194, Train MAP: 0.7378384675190668, Train NDCG: 0.825087308729262\n"
     ]
    },
    {
     "name": "stderr",
     "output_type": "stream",
     "text": [
      "100%|██████████| 98/98 [00:59<00:00,  1.63it/s]\n"
     ]
    },
    {
     "name": "stdout",
     "output_type": "stream",
     "text": [
      "Epoch: 12, Train Loss: 0.047279760241508484, Train F1: 0.3186436593532562, Train MAP: 0.7547184739705146, Train NDCG: 0.8360595388616074\n"
     ]
    },
    {
     "name": "stderr",
     "output_type": "stream",
     "text": [
      "100%|██████████| 98/98 [00:59<00:00,  1.63it/s]\n"
     ]
    },
    {
     "name": "stdout",
     "output_type": "stream",
     "text": [
      "Epoch: 13, Train Loss: 0.242083340883255, Train F1: 0.32760679721832275, Train MAP: 0.7725751620238571, Train NDCG: 0.8490684778327323\n"
     ]
    },
    {
     "name": "stderr",
     "output_type": "stream",
     "text": [
      "100%|██████████| 98/98 [00:59<00:00,  1.64it/s]\n"
     ]
    },
    {
     "name": "stdout",
     "output_type": "stream",
     "text": [
      "Epoch: 14, Train Loss: 0.0261149350553751, Train F1: 0.34949803352355957, Train MAP: 0.7890458356511961, Train NDCG: 0.8606610253278766\n"
     ]
    },
    {
     "name": "stderr",
     "output_type": "stream",
     "text": [
      "100%|██████████| 98/98 [00:59<00:00,  1.65it/s]\n"
     ]
    },
    {
     "name": "stdout",
     "output_type": "stream",
     "text": [
      "Epoch: 15, Train Loss: 0.550279438495636, Train F1: 0.372291624546051, Train MAP: 0.7975623907553095, Train NDCG: 0.8662443084147322\n"
     ]
    },
    {
     "name": "stderr",
     "output_type": "stream",
     "text": [
      "100%|██████████| 98/98 [00:59<00:00,  1.63it/s]\n"
     ]
    },
    {
     "name": "stdout",
     "output_type": "stream",
     "text": [
      "Epoch: 16, Train Loss: 0.03683365881443024, Train F1: 0.390957236289978, Train MAP: 0.8142829091339563, Train NDCG: 0.8776421844626408\n"
     ]
    },
    {
     "name": "stderr",
     "output_type": "stream",
     "text": [
      "100%|██████████| 98/98 [00:59<00:00,  1.64it/s]\n"
     ]
    },
    {
     "name": "stdout",
     "output_type": "stream",
     "text": [
      "Epoch: 17, Train Loss: 0.009783906862139702, Train F1: 0.41767993569374084, Train MAP: 0.8300222203889678, Train NDCG: 0.8886326468333646\n"
     ]
    },
    {
     "name": "stderr",
     "output_type": "stream",
     "text": [
      "100%|██████████| 98/98 [01:00<00:00,  1.63it/s]\n"
     ]
    },
    {
     "name": "stdout",
     "output_type": "stream",
     "text": [
      "Epoch: 18, Train Loss: 0.10562895238399506, Train F1: 0.43810901045799255, Train MAP: 0.8453617248552336, Train NDCG: 0.8987079530173536\n"
     ]
    },
    {
     "name": "stderr",
     "output_type": "stream",
     "text": [
      "100%|██████████| 98/98 [00:59<00:00,  1.64it/s]\n"
     ]
    },
    {
     "name": "stdout",
     "output_type": "stream",
     "text": [
      "Epoch: 19, Train Loss: 0.19021864235401154, Train F1: 0.46329522132873535, Train MAP: 0.8537923209786017, Train NDCG: 0.904036501033765\n"
     ]
    },
    {
     "name": "stderr",
     "output_type": "stream",
     "text": [
      "100%|██████████| 98/98 [00:59<00:00,  1.64it/s]\n"
     ]
    },
    {
     "name": "stdout",
     "output_type": "stream",
     "text": [
      "Epoch: 20, Train Loss: 0.07053378969430923, Train F1: 0.4698871970176697, Train MAP: 0.8659161308708911, Train NDCG: 0.9128912148556408\n"
     ]
    },
    {
     "name": "stderr",
     "output_type": "stream",
     "text": [
      "100%|██████████| 98/98 [00:59<00:00,  1.64it/s]\n"
     ]
    },
    {
     "name": "stdout",
     "output_type": "stream",
     "text": [
      "Epoch: 21, Train Loss: 0.18602649867534637, Train F1: 0.5141342282295227, Train MAP: 0.8845003565845106, Train NDCG: 0.9257646947372803\n"
     ]
    },
    {
     "name": "stderr",
     "output_type": "stream",
     "text": [
      "100%|██████████| 98/98 [00:58<00:00,  1.69it/s]\n"
     ]
    },
    {
     "name": "stdout",
     "output_type": "stream",
     "text": [
      "Epoch: 22, Train Loss: 0.05855454504489899, Train F1: 0.5203899145126343, Train MAP: 0.8944749937176597, Train NDCG: 0.9324082045092744\n"
     ]
    },
    {
     "name": "stderr",
     "output_type": "stream",
     "text": [
      "100%|██████████| 98/98 [00:56<00:00,  1.73it/s]\n"
     ]
    },
    {
     "name": "stdout",
     "output_type": "stream",
     "text": [
      "Epoch: 23, Train Loss: 0.07747451215982437, Train F1: 0.5621274709701538, Train MAP: 0.9052907167734731, Train NDCG: 0.9398860929402829\n"
     ]
    },
    {
     "name": "stderr",
     "output_type": "stream",
     "text": [
      "100%|██████████| 98/98 [00:56<00:00,  1.74it/s]\n"
     ]
    },
    {
     "name": "stdout",
     "output_type": "stream",
     "text": [
      "Epoch: 24, Train Loss: 0.008769987151026726, Train F1: 0.588034987449646, Train MAP: 0.9190438083694732, Train NDCG: 0.9489076023611693\n"
     ]
    },
    {
     "name": "stderr",
     "output_type": "stream",
     "text": [
      "100%|██████████| 98/98 [00:56<00:00,  1.74it/s]\n"
     ]
    },
    {
     "name": "stdout",
     "output_type": "stream",
     "text": [
      "Epoch: 25, Train Loss: 0.04092865437269211, Train F1: 0.6091924905776978, Train MAP: 0.9288419362688566, Train NDCG: 0.9552938751295086\n"
     ]
    },
    {
     "name": "stderr",
     "output_type": "stream",
     "text": [
      "100%|██████████| 98/98 [00:56<00:00,  1.73it/s]\n"
     ]
    },
    {
     "name": "stdout",
     "output_type": "stream",
     "text": [
      "Epoch: 26, Train Loss: 0.24120551347732544, Train F1: 0.6334744691848755, Train MAP: 0.9377766705883538, Train NDCG: 0.9614124314022167\n"
     ]
    },
    {
     "name": "stderr",
     "output_type": "stream",
     "text": [
      "100%|██████████| 98/98 [00:56<00:00,  1.73it/s]\n"
     ]
    },
    {
     "name": "stdout",
     "output_type": "stream",
     "text": [
      "Epoch: 27, Train Loss: 0.08015983551740646, Train F1: 0.6573605537414551, Train MAP: 0.9440352263406314, Train NDCG: 0.9659998975740935\n"
     ]
    },
    {
     "name": "stderr",
     "output_type": "stream",
     "text": [
      "100%|██████████| 98/98 [00:56<00:00,  1.72it/s]\n"
     ]
    },
    {
     "name": "stdout",
     "output_type": "stream",
     "text": [
      "Epoch: 28, Train Loss: 0.041665494441986084, Train F1: 0.6816953420639038, Train MAP: 0.9506500664056484, Train NDCG: 0.9700261249996807\n"
     ]
    },
    {
     "name": "stderr",
     "output_type": "stream",
     "text": [
      "100%|██████████| 98/98 [00:56<00:00,  1.73it/s]\n"
     ]
    },
    {
     "name": "stdout",
     "output_type": "stream",
     "text": [
      "Epoch: 29, Train Loss: 0.03932257369160652, Train F1: 0.7037678956985474, Train MAP: 0.9567038684057926, Train NDCG: 0.9736630890897058\n"
     ]
    },
    {
     "name": "stderr",
     "output_type": "stream",
     "text": [
      "100%|██████████| 98/98 [00:56<00:00,  1.73it/s]\n"
     ]
    },
    {
     "name": "stdout",
     "output_type": "stream",
     "text": [
      "Epoch: 30, Train Loss: 0.0196430291980505, Train F1: 0.7209650278091431, Train MAP: 0.9634489624545163, Train NDCG: 0.9782257008669774\n"
     ]
    },
    {
     "name": "stderr",
     "output_type": "stream",
     "text": [
      "100%|██████████| 98/98 [00:56<00:00,  1.73it/s]\n"
     ]
    },
    {
     "name": "stdout",
     "output_type": "stream",
     "text": [
      "Epoch: 31, Train Loss: 0.20499339699745178, Train F1: 0.7514973878860474, Train MAP: 0.9690642630309688, Train NDCG: 0.9817754672565653\n"
     ]
    }
   ],
   "source": [
    "for epoch in range(32):\n",
    "    train(epoch)"
   ]
  },
  {
   "cell_type": "code",
   "execution_count": 19,
   "metadata": {},
   "outputs": [],
   "source": [
    "# Save model\n",
    "torch.save(model.state_dict(), 'partially_frozen_multimodel.pt')"
   ]
  },
  {
   "cell_type": "code",
   "execution_count": 20,
   "metadata": {},
   "outputs": [
    {
     "data": {
      "image/png": "[encoded data removed]",
      "text/plain": [
       "<Figure size 640x480 with 1 Axes>"
      ]
     },
     "metadata": {},
     "output_type": "display_data"
    }
   ],
   "source": [
    "# Visualize\n",
    "plt.plot(history_loss)\n",
    "plt.plot(history_f1)\n",
    "plt.plot(history_mapk)\n",
    "plt.plot(history_ndcg)\n",
    "plt.title('Model Loss')\n",
    "plt.ylabel('Loss')\n",
    "plt.xlabel('Epoch')\n",
    "plt.legend(['loss', 'F1-Macro', 'MAP', 'NDCG'], loc='upper left')\n",
    "plt.show()"
   ]
  },
  {
   "cell_type": "code",
   "execution_count": 21,
   "metadata": {},
   "outputs": [],
   "source": [
    "# Validation\n",
    "def test(testing_loader):\n",
    "    model.eval()\n",
    "    f1 = MultilabelF1Score(num_labels=18, threshold=0.5, average='macro')\n",
    "    f1.to(device)\n",
    "\n",
    "    actual = []\n",
    "    predicted = []\n",
    "\n",
    "    with torch.no_grad():\n",
    "        for _, data in tqdm(enumerate(testing_loader, 0), total=len(testing_loader)):\n",
    "            title_input_ids = data['title_input_ids'].to(device)\n",
    "            title_attention_mask = data['title_attention_mask'].to(device)\n",
    "            plot_input_ids = data['plot_input_ids'].to(device)\n",
    "            plot_attention_mask = data['plot_attention_mask'].to(device)\n",
    "            image_input = data['image_input'].to(device)\n",
    "            label = data['label'].to(device)\n",
    "\n",
    "            outputs = model(\n",
    "                title_input_ids, title_attention_mask,\n",
    "                plot_input_ids, plot_attention_mask,\n",
    "                image_input\n",
    "            )\n",
    "            f1.update(outputs.sigmoid(), label)\n",
    "        \n",
    "        probabilities = outputs.sigmoid().cpu().detach().numpy()\n",
    "\n",
    "        actual.append(label.cpu().detach().numpy())\n",
    "        predicted.append(probabilities)\n",
    "    actual_flat = np.vstack(actual)\n",
    "    predicted_flat = np.vstack(predicted)\n",
    "    mapp = average_precision_score(actual_flat, predicted_flat, average=\"samples\")\n",
    "    \n",
    "    ndcg = ndcg_score(actual_flat, predicted_flat)\n",
    "    \n",
    "    print(f'Test F1: {f1.compute().item()}, Test MAP: {mapp}, Test NDCG: {ndcg}')"
   ]
  },
  {
   "cell_type": "code",
   "execution_count": 22,
   "metadata": {},
   "outputs": [
    {
     "name": "stderr",
     "output_type": "stream",
     "text": [
      "100%|██████████| 25/25 [00:08<00:00,  2.82it/s]"
     ]
    },
    {
     "name": "stdout",
     "output_type": "stream",
     "text": [
      "Test F1: 0.2754491865634918, Test MAP: 0.5707491582491583, Test NDCG: 0.6871613065654353\n"
     ]
    },
    {
     "name": "stderr",
     "output_type": "stream",
     "text": [
      "\n"
     ]
    }
   ],
   "source": [
    "test(testloader)"
   ]
  },
  {
   "cell_type": "code",
   "execution_count": 23,
   "metadata": {},
   "outputs": [],
   "source": [
    "def inference(title, plot, image_input, tokenizer1=tokenizer1, tokenizer2=tokenizer2, model=model, genres=genres, device=device):\n",
    "    title_input = tokenizer1(title, return_tensors='pt', padding=True, truncation=True)\n",
    "    title_input_ids = title_input['input_ids'].to(device)\n",
    "    title_attention_mask = title_input['attention_mask'].to(device)\n",
    "\n",
    "    plot_input = tokenizer2(plot, return_tensors='pt', padding=True, truncation=True)\n",
    "    plot_input_ids = plot_input['input_ids'].to(device)\n",
    "    plot_attention_mask = plot_input['attention_mask'].to(device)\n",
    "\n",
    "    image_input = image_input.to(device)\n",
    "    print(title)\n",
    "    print(plot)\n",
    "    plt.imshow(image_input.permute(1, 2, 0).cpu().detach().numpy())\n",
    "\n",
    "    output = model(title_input_ids, title_attention_mask, plot_input_ids, plot_attention_mask, image_input.unsqueeze(0))\n",
    "    output = torch.sigmoid(output)\n",
    "    output = output.cpu().detach().numpy()\n",
    "    output = np.where(output > 0.5, 1, 0)\n",
    "    output = output.squeeze()\n",
    "    output = np.where(output == 1)[0]\n",
    "    output = [genres[i] for i in output]\n",
    "    return output"
   ]
  },
  {
   "cell_type": "code",
   "execution_count": 24,
   "metadata": {},
   "outputs": [
    {
     "name": "stderr",
     "output_type": "stream",
     "text": [
      "Clipping input data to the valid range for imshow with RGB data ([0..1] for floats or [0..255] for integers). Got range [-2.117904..2.64].\n"
     ]
    },
    {
     "name": "stdout",
     "output_type": "stream",
     "text": [
      "House II: The Second Story (1987)\n",
      "House II: The Second Story is a movie about a group of friends who are trying to survive in a small town in the 1930s. They are forced to live in a house that is owned by a wealthy businessman, but they are forced to work together to survive. The story fol\n"
     ]
    },
    {
     "data": {
      "text/plain": [
       "['Horror', 'Comedy']"
      ]
     },
     "execution_count": 24,
     "metadata": {},
     "output_type": "execute_result"
    },
    {
     "data": {
      "image/png": "[encoded data removed]",
      "text/plain": [
       "<Figure size 640x480 with 1 Axes>"
      ]
     },
     "metadata": {},
     "output_type": "display_data"
    }
   ],
   "source": [
    "inference(sample['title'][1], sample['plot'][1], sample['image_input'][1])"
   ]
  }
 ],
 "metadata": {
  "kernelspec": {
   "display_name": "cv",
   "language": "python",
   "name": "python3"
  },
  "language_info": {
   "codemirror_mode": {
    "name": "ipython",
    "version": 3
   },
   "file_extension": ".py",
   "mimetype": "text/x-python",
   "name": "python",
   "nbconvert_exporter": "python",
   "pygments_lexer": "ipython3",
   "version": "3.11.10"
  }
 },
 "nbformat": 4,
 "nbformat_minor": 2
}
